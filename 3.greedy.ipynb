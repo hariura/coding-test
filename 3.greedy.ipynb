{
 "cells": [
  {
   "cell_type": "markdown",
   "id": "369601f7",
   "metadata": {},
   "source": [
    "예제 거스름돈\n",
    "\n",
    "- 최적해가 아니라 그 상황에서 최적인 선택지를 고르는것\n",
    "- 그리드 알고리즘이 **정당한지** 판단을 해야한다. \n",
    "- 동전 문제에서는 그게 최적해가 되는이유 : 낮은 동전이 큰 동전의 배수라서"
   ]
  },
  {
   "cell_type": "markdown",
   "id": "848f6fdd",
   "metadata": {},
   "source": [
    "3-1.py  \n",
    "카운터에는 거스름돈으로 사용할 500원, 100원, 50원, 10원 짜리 동전이 무한히 존재한다고 가정.  \n",
    "손님에게 거슬러워야할 돈이 N원일때 거슬러줘야 할 동전의 최소개수 "
   ]
  },
  {
   "cell_type": "code",
   "execution_count": 12,
   "id": "95cbf416",
   "metadata": {},
   "outputs": [],
   "source": [
    "n = 1260\n",
    "count = 0 \n",
    "coin_type = [500,100,50,10]"
   ]
  },
  {
   "cell_type": "code",
   "execution_count": 13,
   "id": "f58d9de7",
   "metadata": {},
   "outputs": [
    {
     "name": "stdout",
     "output_type": "stream",
     "text": [
      "0\n"
     ]
    }
   ],
   "source": [
    "for i in coin_type:\n",
    "    count += (n // i)\n",
    "    n %= coin\n",
    "#     n -= i  * (n // i)"
   ]
  },
  {
   "cell_type": "markdown",
   "id": "b1001c5a",
   "metadata": {},
   "source": [
    "연습문제"
   ]
  },
  {
   "cell_type": "markdown",
   "id": "5f82a275",
   "metadata": {},
   "source": [
    "프로그래머스에서 택배 문제를 풀고 있는데 그리디 문제란다.  \n",
    "\n",
    "어떻게 작게 봐야지 그리디 문제로 보일지 잘안보인다.  \n",
    "알고리즘 문제에서 그리디 알고리즘을 먼저 풀고보자"
   ]
  },
  {
   "cell_type": "markdown",
   "id": "011db2ad",
   "metadata": {},
   "source": [
    "이것이 코딩테스트다 실전문제"
   ]
  },
  {
   "cell_type": "code",
   "execution_count": 2,
   "id": "5f13b03e",
   "metadata": {},
   "outputs": [
    {
     "name": "stdout",
     "output_type": "stream",
     "text": [
      "5 8 3\n"
     ]
    }
   ],
   "source": [
    "n, m, k = map(int, input().split())"
   ]
  },
  {
   "cell_type": "code",
   "execution_count": 3,
   "id": "0f1fe28e",
   "metadata": {},
   "outputs": [
    {
     "name": "stdout",
     "output_type": "stream",
     "text": [
      "2 4 5 4 6\n"
     ]
    }
   ],
   "source": [
    "data = list(map(int, input().split()))"
   ]
  },
  {
   "cell_type": "code",
   "execution_count": 5,
   "id": "a6ca5146",
   "metadata": {},
   "outputs": [],
   "source": [
    "data.sort()"
   ]
  },
  {
   "cell_type": "code",
   "execution_count": 7,
   "id": "ac939b88",
   "metadata": {},
   "outputs": [],
   "source": [
    "first = data[n-1]\n",
    "second = data[n-2]"
   ]
  },
  {
   "cell_type": "code",
   "execution_count": 8,
   "id": "1dabbfd1",
   "metadata": {},
   "outputs": [],
   "source": [
    "result = 0 "
   ]
  },
  {
   "cell_type": "code",
   "execution_count": 9,
   "id": "f06a4560",
   "metadata": {},
   "outputs": [
    {
     "name": "stdout",
     "output_type": "stream",
     "text": [
      "46\n"
     ]
    }
   ],
   "source": [
    "while True:\n",
    "    for i in range(k):\n",
    "        if m == 0 :\n",
    "            break\n",
    "        result += first\n",
    "        m -= 1\n",
    "    if m == 0:\n",
    "        break\n",
    "    result += second\n",
    "    m-=1\n",
    "print(result)"
   ]
  },
  {
   "cell_type": "markdown",
   "id": "937aec0e",
   "metadata": {},
   "source": [
    "카카오 문제를 못풀었다.\n",
    "1. 문제를 잘 못 이해했다. \n",
    "- cap 에 대해서 예시1과 예시2가 다른 걸 확인을 못하고 헤메고 있었다.\n",
    "2. 생각할 때는 최대로 가져가야한다고 알고 있었지만, 예시가 내 생각에 대한 반례라고 이해했다. 실제는 1과 2가 다르기 때문에 맞던것\n",
    "- 뒤에서부터 누적합이 cap을 넘으면 안된다 생각했는데, 넘는건 그냥 앞단에 주면 됌. \n",
    "- 넘으면 그냥 처리됬다는거."
   ]
  },
  {
   "cell_type": "markdown",
   "id": "5d1db595",
   "metadata": {},
   "source": [
    "https://school.programmers.co.kr/learn/courses/30/lessons/150369"
   ]
  },
  {
   "cell_type": "code",
   "execution_count": null,
   "id": "9955efe2",
   "metadata": {},
   "outputs": [],
   "source": [
    "def solution(cap, n, deliveries, pickups):\n",
    "    car = {\"d\": 0, \"p\" : 0} \n",
    "    \n",
    "    answer = 0\n",
    "    deliveries = deliveries[::-1]\n",
    "    pickups = pickups[::-1]\n",
    "    \n",
    "    for i in range(n):\n",
    "        car[\"d\"] += deliveries[i]\n",
    "        car[\"p\"] += pickups[i]\n",
    "        while car[\"d\"] >0 or car[\"p\"] > 0 : \n",
    "            #나는 여길 if 로 박았는데.. while이여야하네\n",
    "            car[\"d\"] -= cap\n",
    "            car[\"p\"] -= cap\n",
    "            answer += (n-i)*2\n",
    "        \n",
    "    \n",
    "    return answer"
   ]
  }
 ],
 "metadata": {
  "kernelspec": {
   "display_name": "Python 3 (ipykernel)",
   "language": "python",
   "name": "python3"
  },
  "language_info": {
   "codemirror_mode": {
    "name": "ipython",
    "version": 3
   },
   "file_extension": ".py",
   "mimetype": "text/x-python",
   "name": "python",
   "nbconvert_exporter": "python",
   "pygments_lexer": "ipython3",
   "version": "3.11.4"
  }
 },
 "nbformat": 4,
 "nbformat_minor": 5
}
