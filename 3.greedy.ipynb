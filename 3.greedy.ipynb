{
 "cells": [
  {
   "cell_type": "markdown",
   "id": "b6169b3b",
   "metadata": {},
   "source": [
    "예제 거스름돈\n",
    "\n",
    "- 최적해가 아니라 그 상황에서 최적인 선택지를 고르는것\n",
    "- 그리드 알고리즘이 **정당한지** 판단을 해야한다. \n",
    "- 동전 문제에서는 그게 최적해가 되는이유 : 낮은 동전이 큰 동전의 배수라서"
   ]
  },
  {
   "cell_type": "markdown",
   "id": "60dc0445",
   "metadata": {},
   "source": [
    "3-1.py  \n",
    "카운터에는 거스름돈으로 사용할 500원, 100원, 50원, 10원 짜리 동전이 무한히 존재한다고 가정.  \n",
    "손님에게 거슬러워야할 돈이 N원일때 거슬러줘야 할 동전의 최소개수 "
   ]
  },
  {
   "cell_type": "code",
   "execution_count": 12,
   "id": "c5e5a5d4",
   "metadata": {},
   "outputs": [],
   "source": [
    "n = 1260\n",
    "count = 0 \n",
    "coin_type = [500,100,50,10]"
   ]
  },
  {
   "cell_type": "code",
   "execution_count": 13,
   "id": "897603cf",
   "metadata": {},
   "outputs": [
    {
     "name": "stdout",
     "output_type": "stream",
     "text": [
      "0\n"
     ]
    }
   ],
   "source": [
    "for i in coin_type:\n",
    "    count += (n // i)\n",
    "    n %= coin\n",
    "#     n -= i  * (n // i)"
   ]
  },
  {
   "cell_type": "markdown",
   "id": "a76be40f",
   "metadata": {},
   "source": [
    "연습문제"
   ]
  },
  {
   "cell_type": "code",
   "execution_count": null,
   "id": "32dd9970",
   "metadata": {},
   "outputs": [],
   "source": []
  }
 ],
 "metadata": {
  "kernelspec": {
   "display_name": "Python 3 (ipykernel)",
   "language": "python",
   "name": "python3"
  },
  "language_info": {
   "codemirror_mode": {
    "name": "ipython",
    "version": 3
   },
   "file_extension": ".py",
   "mimetype": "text/x-python",
   "name": "python",
   "nbconvert_exporter": "python",
   "pygments_lexer": "ipython3",
   "version": "3.11.4"
  }
 },
 "nbformat": 4,
 "nbformat_minor": 5
}
