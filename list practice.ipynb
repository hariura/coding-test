{
 "cells": [
  {
   "cell_type": "code",
   "execution_count": 1,
   "id": "efe50685",
   "metadata": {},
   "outputs": [
    {
     "data": {
      "text/plain": [
       "18"
      ]
     },
     "execution_count": 1,
     "metadata": {},
     "output_type": "execute_result"
    }
   ],
   "source": [
    "sum([3,4,5,6])"
   ]
  },
  {
   "cell_type": "code",
   "execution_count": 3,
   "id": "a00cdc88",
   "metadata": {},
   "outputs": [
    {
     "data": {
      "text/plain": [
       "[6, 5, 4, 3]"
      ]
     },
     "execution_count": 3,
     "metadata": {},
     "output_type": "execute_result"
    }
   ],
   "source": [
    "a = [3,4,5,6]\n",
    "a.reverse()\n",
    "a"
   ]
  },
  {
   "cell_type": "code",
   "execution_count": 2,
   "id": "a0f1eae8",
   "metadata": {},
   "outputs": [],
   "source": [
    "[3,4,5,6].reverse()"
   ]
  },
  {
   "cell_type": "code",
   "execution_count": 11,
   "id": "023fd125",
   "metadata": {},
   "outputs": [
    {
     "data": {
      "text/plain": [
       "[6, 5, 4, 3, 2, 1]"
      ]
     },
     "execution_count": 11,
     "metadata": {},
     "output_type": "execute_result"
    }
   ],
   "source": [
    "list(range(6,0,-1))"
   ]
  },
  {
   "cell_type": "code",
   "execution_count": 94,
   "id": "b05e689e",
   "metadata": {},
   "outputs": [],
   "source": [
    "m=4; n= 3"
   ]
  },
  {
   "cell_type": "code",
   "execution_count": 74,
   "id": "1e61486f",
   "metadata": {},
   "outputs": [
    {
     "data": {
      "text/plain": [
       "[[0],\n",
       " [0, 0],\n",
       " [0, 0, 0],\n",
       " [0, 0, 0, 0],\n",
       " [0, 0, 0, 0, 0],\n",
       " [0, 0, 0, 0, 0],\n",
       " [0, 0, 0, 0],\n",
       " [0, 0, 0],\n",
       " [0, 0],\n",
       " [0]]"
      ]
     },
     "execution_count": 74,
     "metadata": {},
     "output_type": "execute_result"
    }
   ],
   "source": [
    "[[0]*min(m,n,(i+1),2*m-i, 2*n-i) for i in range(m+n-1)]"
   ]
  },
  {
   "cell_type": "code",
   "execution_count": 148,
   "id": "6fd8f393",
   "metadata": {},
   "outputs": [],
   "source": [
    "a = [[0]*m for _ in range(n)]"
   ]
  },
  {
   "cell_type": "code",
   "execution_count": 149,
   "id": "9623fb46",
   "metadata": {},
   "outputs": [
    {
     "data": {
      "text/plain": [
       "[[0, 0, 0, 0], [0, 0, 0, 0], [0, 0, 0, 0]]"
      ]
     },
     "execution_count": 149,
     "metadata": {},
     "output_type": "execute_result"
    }
   ],
   "source": [
    "a"
   ]
  },
  {
   "cell_type": "code",
   "execution_count": 150,
   "id": "b0d21d4d",
   "metadata": {},
   "outputs": [],
   "source": [
    "for i in range(n): #행렬이 반대네 \n",
    "    a[i][0]=1\n",
    "    for j in range(m):\n",
    "        a[0][j]=1"
   ]
  },
  {
   "cell_type": "code",
   "execution_count": 151,
   "id": "56f683d4",
   "metadata": {},
   "outputs": [
    {
     "data": {
      "text/plain": [
       "[[1, 1, 1, 1], [1, 0, 0, 0], [1, 0, 0, 0]]"
      ]
     },
     "execution_count": 151,
     "metadata": {},
     "output_type": "execute_result"
    }
   ],
   "source": [
    "a"
   ]
  },
  {
   "cell_type": "code",
   "execution_count": 152,
   "id": "7a72d4cb",
   "metadata": {},
   "outputs": [],
   "source": [
    "for i in range(1,n):\n",
    "    for j in range(1,m):\n",
    "        if [i+1,j+1] in puddles:\n",
    "            continue\n",
    "        a[i][j] = a[i-1][j] + a[i][j-1]\n",
    "a[n-1][m-1]"
   ]
  },
  {
   "cell_type": "code",
   "execution_count": 158,
   "id": "bf417016",
   "metadata": {},
   "outputs": [
    {
     "ename": "IndexError",
     "evalue": "list index out of range",
     "output_type": "error",
     "traceback": [
      "\u001b[0;31m---------------------------------------------------------------------------\u001b[0m",
      "\u001b[0;31mIndexError\u001b[0m                                Traceback (most recent call last)",
      "Cell \u001b[0;32mIn[158], line 1\u001b[0m\n\u001b[0;32m----> 1\u001b[0m a[m][n]\n",
      "\u001b[0;31mIndexError\u001b[0m: list index out of range"
     ]
    }
   ],
   "source": [
    "a[m][n]"
   ]
  },
  {
   "cell_type": "code",
   "execution_count": 164,
   "id": "cb42b1a3",
   "metadata": {},
   "outputs": [
    {
     "data": {
      "text/plain": [
       "4"
      ]
     },
     "execution_count": 164,
     "metadata": {},
     "output_type": "execute_result"
    }
   ],
   "source": [
    "a[n-1][m-1]"
   ]
  },
  {
   "cell_type": "code",
   "execution_count": 161,
   "id": "fb655302",
   "metadata": {},
   "outputs": [
    {
     "data": {
      "text/plain": [
       "4"
      ]
     },
     "execution_count": 161,
     "metadata": {},
     "output_type": "execute_result"
    }
   ],
   "source": [
    "m"
   ]
  },
  {
   "cell_type": "code",
   "execution_count": 165,
   "id": "fc423a71",
   "metadata": {},
   "outputs": [],
   "source": [
    "a = [[0]*m for _ in range(n)]"
   ]
  },
  {
   "cell_type": "code",
   "execution_count": 174,
   "id": "f47fd3df",
   "metadata": {},
   "outputs": [
    {
     "data": {
      "text/plain": [
       "[[0, 0, 0, 0], [0, 0, 0, 0], [0, 0, 0, 0]]"
      ]
     },
     "execution_count": 174,
     "metadata": {},
     "output_type": "execute_result"
    }
   ],
   "source": [
    "a"
   ]
  },
  {
   "cell_type": "code",
   "execution_count": 177,
   "id": "6afc2909",
   "metadata": {},
   "outputs": [
    {
     "data": {
      "text/plain": [
       "4"
      ]
     },
     "execution_count": 177,
     "metadata": {},
     "output_type": "execute_result"
    }
   ],
   "source": [
    "a[0][0]=1\n",
    "for i in range(n):\n",
    "    for j in range(m):\n",
    "        if [i+1,j+1] in puddles or [i,j]==[0,0]:\n",
    "            a[j][i] = 0 \n",
    "            continue\n",
    "        a[i][j] = a[i-1][j] + a[i][j-1]\n",
    "a[n-1][m-1]"
   ]
  },
  {
   "cell_type": "code",
   "execution_count": 178,
   "id": "4119da66",
   "metadata": {},
   "outputs": [
    {
     "data": {
      "text/plain": [
       "[[1, 1, 1, 1], [1, 0, 1, 2], [1, 1, 2, 4]]"
      ]
     },
     "execution_count": 178,
     "metadata": {},
     "output_type": "execute_result"
    }
   ],
   "source": [
    "a"
   ]
  },
  {
   "cell_type": "code",
   "execution_count": 2,
   "id": "1af0def0",
   "metadata": {},
   "outputs": [],
   "source": [
    "tickets = [[\"ICN\", \"JFK\"], [\"HND\", \"IAD\"], [\"JFK\", \"HND\"]]"
   ]
  },
  {
   "cell_type": "code",
   "execution_count": 3,
   "id": "debfe3d4",
   "metadata": {},
   "outputs": [
    {
     "data": {
      "text/plain": [
       "['IAD', 'JFK', 'HND', 'ICN']"
      ]
     },
     "execution_count": 3,
     "metadata": {},
     "output_type": "execute_result"
    }
   ],
   "source": [
    "city = []\n",
    "for i in tickets:\n",
    "    city += i\n",
    "list(set(city))"
   ]
  },
  {
   "cell_type": "code",
   "execution_count": 2,
   "id": "e8cee596",
   "metadata": {},
   "outputs": [],
   "source": [
    "n = 4;m=3"
   ]
  },
  {
   "cell_type": "code",
   "execution_count": 11,
   "id": "1b70438e",
   "metadata": {},
   "outputs": [],
   "source": [
    "a = [[0]*n for _ in range(m)]"
   ]
  },
  {
   "cell_type": "code",
   "execution_count": 12,
   "id": "d8e67400",
   "metadata": {},
   "outputs": [
    {
     "data": {
      "text/plain": [
       "[[0, 0, 0, 0], [0, 0, 0, 0], [0, 0, 0, 0]]"
      ]
     },
     "execution_count": 12,
     "metadata": {},
     "output_type": "execute_result"
    }
   ],
   "source": [
    "a"
   ]
  },
  {
   "cell_type": "code",
   "execution_count": 13,
   "id": "bf10884b",
   "metadata": {},
   "outputs": [],
   "source": [
    "a[2][1]=1"
   ]
  },
  {
   "cell_type": "code",
   "execution_count": null,
   "id": "a3c3742f",
   "metadata": {},
   "outputs": [],
   "source": [
    "for i in range(n):\n",
    "    for j in range(m):\n"
   ]
  },
  {
   "cell_type": "code",
   "execution_count": 14,
   "id": "553e0be0",
   "metadata": {},
   "outputs": [
    {
     "data": {
      "text/plain": [
       "[[0, 0, 0, 0], [0, 0, 0, 0], [0, 1, 0, 0]]"
      ]
     },
     "execution_count": 14,
     "metadata": {},
     "output_type": "execute_result"
    }
   ],
   "source": [
    "a"
   ]
  },
  {
   "cell_type": "code",
   "execution_count": 10,
   "id": "cbe870bf",
   "metadata": {},
   "outputs": [
    {
     "data": {
      "text/plain": [
       "1"
      ]
     },
     "execution_count": 10,
     "metadata": {},
     "output_type": "execute_result"
    }
   ],
   "source": [
    "a[1][1]"
   ]
  },
  {
   "cell_type": "code",
   "execution_count": 1,
   "id": "4e7e90ad",
   "metadata": {},
   "outputs": [],
   "source": [
    "x,y = [3,4]"
   ]
  },
  {
   "cell_type": "code",
   "execution_count": 1,
   "id": "7a6954ce",
   "metadata": {},
   "outputs": [
    {
     "data": {
      "text/plain": [
       "3"
      ]
     },
     "execution_count": 1,
     "metadata": {},
     "output_type": "execute_result"
    }
   ],
   "source": [
    "len([3,4,5])"
   ]
  },
  {
   "cell_type": "code",
   "execution_count": 2,
   "id": "a94d9cfa",
   "metadata": {},
   "outputs": [
    {
     "name": "stdout",
     "output_type": "stream",
     "text": [
      "0\n",
      "1\n",
      "2\n"
     ]
    }
   ],
   "source": [
    "for i in range(3):\n",
    "    print(i)"
   ]
  },
  {
   "cell_type": "code",
   "execution_count": null,
   "id": "737c3a29",
   "metadata": {},
   "outputs": [],
   "source": []
  }
 ],
 "metadata": {
  "kernelspec": {
   "display_name": "Python 3 (ipykernel)",
   "language": "python",
   "name": "python3"
  },
  "language_info": {
   "codemirror_mode": {
    "name": "ipython",
    "version": 3
   },
   "file_extension": ".py",
   "mimetype": "text/x-python",
   "name": "python",
   "nbconvert_exporter": "python",
   "pygments_lexer": "ipython3",
   "version": "3.11.4"
  }
 },
 "nbformat": 4,
 "nbformat_minor": 5
}
