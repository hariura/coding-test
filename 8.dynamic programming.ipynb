{
 "cells": [
  {
   "cell_type": "markdown",
   "id": "816e6316",
   "metadata": {},
   "source": [
    "1. 큰 문제를 작은 문제로 나눌 수 있다.\n",
    "2. 작은 문제에서 구한 정답은 그것을 포함하는 큰 문제에서도 동일하다.\n",
    "  \n",
    "메모제이션 : 메모리 공간에 저장해두고 나중에 호출  \n",
    "함수안에 함수 넣는거 재귀적으로 표현가능\n",
    "재귀적으로 구할 때, 이미 구한거 다시 안구하는게 중요."
   ]
  },
  {
   "cell_type": "code",
   "execution_count": 6,
   "id": "b952d525",
   "metadata": {},
   "outputs": [],
   "source": [
    "d = [0]* 100\n",
    "\n",
    "def fibo(x):\n",
    "    if x == 1 or x == 2:\n",
    "        return 1\n",
    "    if d[x]!=0:\n",
    "        return d[x]\n",
    "    d[x] = fibo(x-1)+fibo(x-2)\n",
    "    return d[x]"
   ]
  },
  {
   "cell_type": "code",
   "execution_count": 12,
   "id": "f6d21717",
   "metadata": {},
   "outputs": [
    {
     "name": "stdout",
     "output_type": "stream",
     "text": [
      "218922995834555169026\n"
     ]
    }
   ],
   "source": [
    "print(fibo(99))"
   ]
  },
  {
   "cell_type": "code",
   "execution_count": 13,
   "id": "2950c7dd",
   "metadata": {},
   "outputs": [
    {
     "data": {
      "text/plain": [
       "218922995834555169026"
      ]
     },
     "execution_count": 13,
     "metadata": {},
     "output_type": "execute_result"
    }
   ],
   "source": [
    "d[99]"
   ]
  },
  {
   "cell_type": "markdown",
   "id": "599b715d",
   "metadata": {},
   "source": [
    "보텀업 방식 : DP 테이블 만들어두고, 채워나감"
   ]
  },
  {
   "cell_type": "code",
   "execution_count": null,
   "id": "e9673439",
   "metadata": {},
   "outputs": [],
   "source": []
  }
 ],
 "metadata": {
  "kernelspec": {
   "display_name": "Python 3 (ipykernel)",
   "language": "python",
   "name": "python3"
  },
  "language_info": {
   "codemirror_mode": {
    "name": "ipython",
    "version": 3
   },
   "file_extension": ".py",
   "mimetype": "text/x-python",
   "name": "python",
   "nbconvert_exporter": "python",
   "pygments_lexer": "ipython3",
   "version": "3.11.4"
  }
 },
 "nbformat": 4,
 "nbformat_minor": 5
}
