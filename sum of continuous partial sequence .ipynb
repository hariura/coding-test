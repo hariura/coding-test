{
 "cells": [
  {
   "cell_type": "markdown",
   "id": "3b15122b",
   "metadata": {},
   "source": [
    "비내림차순으로 정렬된 수열이 주어질 때, 다음 조건을 만족하는 부분 수열을 찾으려고 합니다.  \n",
    "- 기존 수열에서 임의의 두 인덱스의 원소와 그 사이의 원소를 모두 포함하는 부분 수열이어야 합니다.  \n",
    "- 부분 수열의 합은 k입니다.  \n",
    "- 합이 k인 부분 수열이 여러 개인 경우 길이가 짧은 수열을 찾습니다.  \n",
    "- 길이가 짧은 수열이 여러 개인 경우 앞쪽(시작 인덱스가 작은)에 나오는 수열을 찾습니다.  \n",
    "\n",
    "수열을 나타내는 정수 배열 sequence와 부분 수열의 합을 나타내는 정수 k가 매개변수로 주어질 때,   \n",
    "위 조건을 만족하는 부분 수열의 시작 인덱스와 마지막 인덱스를 배열에 담아 return 하는 solution 함수를 완성해주세요.   \n",
    "이때 수열의 인덱스는 0부터 시작합니다.  "
   ]
  },
  {
   "cell_type": "code",
   "execution_count": null,
   "id": "ead9c067",
   "metadata": {},
   "outputs": [],
   "source": [
    "def solution(sequence, k):\n",
    "    start, end = 0,0\n",
    "    corrent_sum = 0\n",
    "    answer = []\n",
    "    \n",
    "    \n",
    "    while end < len(sequence):\n",
    "        if corrent_sum == k :\n",
    "            answer = [start,(end-1)]\n",
    "        if corrent_sum <= k :\n",
    "            corrent_sum += sequence[end]\n",
    "        if corrent_sum > k :\n",
    "            corrent_sum -= sequence[start]\n",
    "\n",
    "    return answer"
   ]
  },
  {
   "cell_type": "code",
   "execution_count": null,
   "id": "7176ddeb",
   "metadata": {},
   "outputs": [],
   "source": [
    "def solution(sequence, k):\n",
    "    start, end = 0,0\n",
    "    corrent_sum = 0\n",
    "    answer = []\n",
    "    min_length = float(\"inf\")\n",
    "    \n",
    "    # for 문으로 range(len()) 말고 이렇게 갔음\n",
    "    # end 지점 뽑기 더 수월해보임\n",
    "    while end < len(sequence):\n",
    "        corrent_sum += sequence[end]\n",
    "        end += 1\n",
    "        \n",
    "        #테스트 케이스를 나눠야 하는데 \n",
    "        while corrent_sum >= k :\n",
    "            if corrent_sum == k :\n",
    "                length = end - start\n",
    "                \n",
    "                #answer 업데이트\n",
    "                if length < min_length:\n",
    "                    min_length = length\n",
    "                    answer = [start, end - 1]\n",
    "            corrent_sum -= sequence[start]\n",
    "            start += 1 \n",
    "        \n",
    "    return answer"
   ]
  }
 ],
 "metadata": {
  "kernelspec": {
   "display_name": "Python 3 (ipykernel)",
   "language": "python",
   "name": "python3"
  },
  "language_info": {
   "codemirror_mode": {
    "name": "ipython",
    "version": 3
   },
   "file_extension": ".py",
   "mimetype": "text/x-python",
   "name": "python",
   "nbconvert_exporter": "python",
   "pygments_lexer": "ipython3",
   "version": "3.11.4"
  }
 },
 "nbformat": 4,
 "nbformat_minor": 5
}
