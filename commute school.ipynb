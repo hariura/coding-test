{
 "cells": [
  {
   "cell_type": "markdown",
   "id": "b37a053f",
   "metadata": {},
   "source": [
    "실패를 많이했다.  \n",
    "웅덩이.. ij 바뀐다는 것과 count를 할 때 디폴트 1을 주는 것에서 실패함  \n",
    "나눗셈도 빼먹음   \n",
    "문제 파악 실패 "
   ]
  },
  {
   "cell_type": "code",
   "execution_count": null,
   "id": "6b7f9ce0",
   "metadata": {},
   "outputs": [],
   "source": [
    "def solution(m, n, puddles):\n",
    "    a = [[0]*m for _ in range(n)]\n",
    "    \n",
    "    for i in range(n): #행렬이 반대네 \n",
    "        a[i][0]=1\n",
    "        for j in range(m):\n",
    "            a[0][j]=1\n",
    "            \n",
    "    for i in range(1,n):\n",
    "        for j in range(1,m):\n",
    "            if [i+1,j+1] in puddles:\n",
    "                continue\n",
    "            a[i][j] = a[i-1][j] + a[i][j-1]\n",
    "\n",
    "    answer = a[n-1][m-1]\n",
    "    return answer"
   ]
  },
  {
   "cell_type": "code",
   "execution_count": null,
   "id": "1727b8e4",
   "metadata": {},
   "outputs": [],
   "source": [
    "\n",
    "def solution(m, n, puddles):\n",
    "    a = [[0]*m for _ in range(n)]\n",
    "    a[0][0]=1\n",
    "\n",
    "    for i in range(n):\n",
    "        for j in range(m):\n",
    "            if [j+1,i+1] in puddles or [i,j]==[0,0]:\n",
    "                # a[j][i] = 0 \n",
    "                continue\n",
    "            a[i][j] = a[i-1][j] + a[i][j-1]\n",
    "    # a[n-1][m-1]\n",
    "\n",
    "    answer = a[n-1][m-1] % 1000000007\n",
    "    return answer"
   ]
  }
 ],
 "metadata": {
  "kernelspec": {
   "display_name": "Python 3 (ipykernel)",
   "language": "python",
   "name": "python3"
  },
  "language_info": {
   "codemirror_mode": {
    "name": "ipython",
    "version": 3
   },
   "file_extension": ".py",
   "mimetype": "text/x-python",
   "name": "python",
   "nbconvert_exporter": "python",
   "pygments_lexer": "ipython3",
   "version": "3.11.4"
  }
 },
 "nbformat": 4,
 "nbformat_minor": 5
}
