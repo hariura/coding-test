{
 "cells": [
  {
   "cell_type": "markdown",
   "id": "e8b339cf",
   "metadata": {},
   "source": [
    "https://school.programmers.co.kr/learn/courses/30/lessons/60057?language=python3\n"
   ]
  },
  {
   "cell_type": "markdown",
   "id": "dbe25a9c",
   "metadata": {},
   "source": [
    "전략 aaa가 있으면  \n",
    "a -> 2, a -> 3,a 로 바꿔서 다시합침  \n",
    "주어진 내용 그대로 진행했음.  \n",
    "  \n",
    "크기 1짜리 처리 안되서 그냥 .. pass 해버림. 시간 너무 많이 사용 됨.  \n",
    "독창적인 아이디어도 아니고 그냥 구현 연습   "
   ]
  },
  {
   "cell_type": "code",
   "execution_count": null,
   "id": "3371830c",
   "metadata": {},
   "outputs": [],
   "source": [
    "from collections import deque\n",
    "\n",
    "def slide(s, lenght):\n",
    "    # 와씨 변수명 len썼다가 조졌네 \n",
    "    # 왜 넘어가는건 안들어가 ?? 체크해야함. \n",
    "    cut = deque()\n",
    "    j = 0\n",
    "    if len(s)%lenght == 0 :\n",
    "        remain = 0\n",
    "    else: remain = 1 \n",
    "    for i in range(len(s)//lenght+remain):\n",
    "        cut.append(s[j:j+lenght])\n",
    "        j += lenght\n",
    "    return cut\n",
    "        \n",
    "def solution(s):\n",
    "    num_slide = []\n",
    "    if len(s) ==1 : num_slide.append(1)\n",
    "        \n",
    "    for kk in range(1,len(s)//2+1):\n",
    "        l = []\n",
    "        d = slide(s,kk)\n",
    "        # print(d)\n",
    "        m = 1\n",
    "        l.append(d.popleft()) #처음꺼 넣기 \n",
    "        for i in range(len(d)): # 모든 묶음에 대해서 \n",
    "            pp = d.popleft() #다음 후보       \n",
    "            if l[-1] == pp: #스택과 큐 하나씩 비교.\n",
    "                lll = l.pop()\n",
    "                m += 1\n",
    "                if m != 2 : # 2개에서 3개 갈때 문제..\n",
    "                    l.pop() #계수도 꺼내 \n",
    "                l.append(str(m))\n",
    "                l.append(lll)\n",
    "            else :\n",
    "                m = 1\n",
    "                l.append(pp)\n",
    "        ll = \"\".join(l)\n",
    "        # print(ll)\n",
    "        num_slide.append(len(ll))\n",
    "    # answer = num_slide\n",
    "    \n",
    "    answer = min(num_slide)\n",
    "    return answer"
   ]
  },
  {
   "cell_type": "code",
   "execution_count": 1,
   "id": "26348c0d",
   "metadata": {},
   "outputs": [],
   "source": [
    "a = \"dsds\"\n",
    "a[:6]"
   ]
  },
  {
   "cell_type": "code",
   "execution_count": 6,
   "id": "b8b56550",
   "metadata": {},
   "outputs": [
    {
     "data": {
      "text/plain": [
       "'dsds'"
      ]
     },
     "execution_count": 6,
     "metadata": {},
     "output_type": "execute_result"
    }
   ],
   "source": []
  }
 ],
 "metadata": {
  "kernelspec": {
   "display_name": "Python 3 (ipykernel)",
   "language": "python",
   "name": "python3"
  },
  "language_info": {
   "codemirror_mode": {
    "name": "ipython",
    "version": 3
   },
   "file_extension": ".py",
   "mimetype": "text/x-python",
   "name": "python",
   "nbconvert_exporter": "python",
   "pygments_lexer": "ipython3",
   "version": "3.11.4"
  }
 },
 "nbformat": 4,
 "nbformat_minor": 5
}
