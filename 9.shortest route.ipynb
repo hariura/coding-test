{
 "cells": [
  {
   "cell_type": "code",
   "execution_count": 13,
   "id": "b8767bc3",
   "metadata": {},
   "outputs": [
    {
     "name": "stdout",
     "output_type": "stream",
     "text": [
      "[0, 1, 2, 3, 4, 5, 6, 7, 8, 9]\n"
     ]
    }
   ],
   "source": [
    "import heapq\n",
    "\n",
    "def heapsort(iterable):\n",
    "    h = []\n",
    "    result = []\n",
    "    #모든 원소를 차례대로 힙에 삽입\n",
    "    for value in iterable:\n",
    "        heapq.heappush(h, value)\n",
    "    #힙에 삽입된 모든 원소를 차례대로 꺼내어 담기\n",
    "    for i in range(len(h)):\n",
    "        result.append(heapq.heappop(h))\n",
    "    return result\n",
    "\n",
    "result = heapsort([1,3,5,7,9,2,4,6,8,0])\n",
    "print(result)"
   ]
  },
  {
   "cell_type": "markdown",
   "id": "4c2d52df",
   "metadata": {},
   "source": [
    "우선순위... 중요한거 ..? 알아서 하는거야 ?  \n",
    "min hip   \n",
    "아 오른차순으로 그냥 들어가기 때문에   \n",
    "힙에서 그냥 꺼내면 오른차순 결과가 그냥 나온거임   "
   ]
  },
  {
   "cell_type": "code",
   "execution_count": null,
   "id": "62a3282c",
   "metadata": {},
   "outputs": [],
   "source": [
    "import heapq\n",
    "\n",
    "def heapsort(iterable):\n",
    "    h = []\n",
    "    result = []\n",
    "    #모든 원소를 차례대로 힙에 삽입\n",
    "    for value in iterable:\n",
    "        heapq.heappush(h, -value) #부호 반대 \n",
    "    #힙에 삽입된 모든 원소를 차례대로 꺼내어 담기\n",
    "    for i in range(len(h)):\n",
    "        result.append(-heapq.heappop(h)) # 부호반대 \n",
    "    return result\n",
    "\n",
    "result = heapsort([1,3,5,7,9,2,4,6,8,0])\n",
    "print(result)"
   ]
  },
  {
   "cell_type": "markdown",
   "id": "64b7388a",
   "metadata": {},
   "source": [
    "- 매 단계마다 방문하지 않은 노드중 최단거리가 가장 짧은 노드를 선택하기 위해 heap 사용\n",
    "- 다익스타라 알고리즘이 동작하는 기본원리는 동일\n",
    "    - 현재 가까운 노드를 저장해놓기 위해서 힙자료구조를 추가적으로 이용함\n",
    "    - 현재의 최단거리가 가장 짧은 노드를 선택해야하므로 최소힙을 사용"
   ]
  },
  {
   "cell_type": "markdown",
   "id": "63c545cb",
   "metadata": {},
   "source": [
    "## Dijkstra\n",
    "- 특정한 노드에서 출발하여 다른 노드로 가는 각각의 최단 경로를 구해주는 알고리즘 \n",
    "- 각 노드에 대한 현재까지의 최단 거리 정보를 항상 1차원 리스트에 저장하며 리스트를 **갱신**\n",
    "- 음이 없으니까 이미 지나온 곳은 fixed 되어있음\n",
    "- 그래프는 n+1개 만들어서 노드 1~n까지 사용. 0은 버림"
   ]
  },
  {
   "cell_type": "code",
   "execution_count": 7,
   "id": "80e6ee09",
   "metadata": {},
   "outputs": [],
   "source": [
    "import heapq\n",
    "# import sys\n",
    "# input = sys.stdin.readline\n",
    "INF = int(1e9)# 무한 의미"
   ]
  },
  {
   "cell_type": "code",
   "execution_count": 9,
   "id": "61a0c9a8",
   "metadata": {},
   "outputs": [
    {
     "name": "stdout",
     "output_type": "stream",
     "text": [
      "6 11\n",
      "1\n"
     ]
    }
   ],
   "source": [
    "#노드의 개수, 간선의 개수 입력 받기 \n",
    "n, m = map(int,input().split())\n",
    "# 시작 노드 번호 입력받기\n",
    "start = int(input())\n",
    "#각 노드에 연결되어있는 노드에 대한 정보를 담는 리스트 만들기 \n",
    "graph = [[] for i in range(n+1)]\n"
   ]
  },
  {
   "cell_type": "code",
   "execution_count": 12,
   "id": "32c04049",
   "metadata": {
    "scrolled": true
   },
   "outputs": [
    {
     "name": "stdout",
     "output_type": "stream",
     "text": [
      "1 2 2\n",
      "1 3 5\n",
      "1 4 1\n",
      "2 3 3\n",
      "2 4 2\n",
      "3 2 3\n",
      "3 6 5\n",
      "4 3 3\n",
      "4 5 1\n",
      "5 3 1\n",
      "5 6 2\n"
     ]
    }
   ],
   "source": [
    "distance = [INF]*(n+1)\n",
    "\n",
    "# 모든 간선 정보를 입력받기\n",
    "for _ in range(m):\n",
    "    a, b, c = map(int, input().split())\n",
    "    # a번 노드에서 b번 노드로 가는 비용이 c라는 의미\n",
    "    graph[a].append((b,c))\n"
   ]
  },
  {
   "cell_type": "markdown",
   "id": "f9c4687a",
   "metadata": {},
   "source": [
    "6 11\n",
    "1\n",
    "1 2 2\n",
    "1 3 5\n",
    "1 4 1\n",
    "2 3 3\n",
    "2 4 2\n",
    "3 2 3\n",
    "3 6 5\n",
    "4 3 3\n",
    "4 5 1\n",
    "5 3 1\n",
    "5 6 2"
   ]
  },
  {
   "cell_type": "code",
   "execution_count": 17,
   "id": "65e065f7",
   "metadata": {},
   "outputs": [],
   "source": [
    "def dijkstra(start):\n",
    "    q = []\n",
    "    # 시작 노드로 가기 위한 최단 경로는 0으로 설정하여, 큐에 삽입\n",
    "    heapq.heappush(q,(0,start))\n",
    "    distance[start]=0\n",
    "    while q: #큐가 비어있지 않다면 \n",
    "        # 가장 최단거리가 짧은 노드에 대한 정보를 꺼내기\n",
    "        dist, now = heapq.heappop(q)\n",
    "        # 현재 노드가 이미 처리된 적이 있는 노드라면 무시. \n",
    "        # 길이가 작은 애들은 다 지나온 애들인게 확실함. \n",
    "        if distance[now] < dist: \n",
    "            continue\n",
    "        for i in graph[now]:\n",
    "            cost = dist + i[1]\n",
    "            #현재 노드를 거쳐서 다른 노드로 이동하는 거리가 더 짧은 경우\n",
    "            if cost < distance[i[0]]:\n",
    "                distance[i[0]] = cost\n",
    "                heapq.heappush(q,(cost, i[0]))\n",
    "\n",
    "dijkstra(start)"
   ]
  },
  {
   "cell_type": "code",
   "execution_count": 18,
   "id": "ab8fd84f",
   "metadata": {},
   "outputs": [
    {
     "data": {
      "text/plain": [
       "[1000000000, 0, 2, 3, 1, 2, 4]"
      ]
     },
     "execution_count": 18,
     "metadata": {},
     "output_type": "execute_result"
    }
   ],
   "source": [
    "distance"
   ]
  },
  {
   "cell_type": "code",
   "execution_count": 60,
   "id": "c9f2daa3",
   "metadata": {},
   "outputs": [],
   "source": [
    "import heapq\n",
    "\n",
    "def dijkstra(graph, start):\n",
    "    q = []\n",
    "    distances = {node : float(\"inf\") for node in graph}\n",
    "    distances[start] = 0\n",
    "    heapq.heappush(q, [distances[start], start])\n",
    "    \n",
    "    while q:\n",
    "        dist, now = heapq.heappop(q)\n",
    "        if distances[now] < dist:\n",
    "            continue\n",
    "        for node, weight in graph[now].items():\n",
    "            distance =  dist + weight\n",
    "            if distance < distances[node]:\n",
    "                distances[node] = distance\n",
    "                heapq.heappush(q, [distance, node])\n",
    "                \n",
    "    return distances"
   ]
  },
  {
   "cell_type": "code",
   "execution_count": 61,
   "id": "382f5c9b",
   "metadata": {},
   "outputs": [],
   "source": [
    "mygraph = {\n",
    "    'A': {'B': 8, 'C': 1, 'D': 2},\n",
    "    'B': {},\n",
    "    'C': {'B': 5, 'D': 2},\n",
    "    'D': {'E': 3, 'F': 5},\n",
    "    'E': {'F': 1},\n",
    "    'F': {'A': 5}\n",
    "}"
   ]
  },
  {
   "cell_type": "code",
   "execution_count": 62,
   "id": "caa61634",
   "metadata": {},
   "outputs": [
    {
     "name": "stdout",
     "output_type": "stream",
     "text": [
      "{'A': 0, 'B': 6, 'C': 1, 'D': 2, 'E': 5, 'F': 6}\n"
     ]
    }
   ],
   "source": [
    "print(dijkstra(mygraph, 'A'))"
   ]
  },
  {
   "cell_type": "code",
   "execution_count": null,
   "id": "989ac1d2",
   "metadata": {},
   "outputs": [],
   "source": []
  }
 ],
 "metadata": {
  "kernelspec": {
   "display_name": "Python 3 (ipykernel)",
   "language": "python",
   "name": "python3"
  },
  "language_info": {
   "codemirror_mode": {
    "name": "ipython",
    "version": 3
   },
   "file_extension": ".py",
   "mimetype": "text/x-python",
   "name": "python",
   "nbconvert_exporter": "python",
   "pygments_lexer": "ipython3",
   "version": "3.11.4"
  }
 },
 "nbformat": 4,
 "nbformat_minor": 5
}
