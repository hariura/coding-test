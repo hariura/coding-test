{
 "cells": [
  {
   "cell_type": "markdown",
   "id": "64b3d855",
   "metadata": {},
   "source": [
    "4-1.py"
   ]
  },
  {
   "cell_type": "code",
   "execution_count": null,
   "id": "71f8aab8",
   "metadata": {},
   "outputs": [],
   "source": [
    "n = int(input())\n",
    "route = [\"R\",\"R\",\"R\",\"U\",\"D\",\"D\"]"
   ]
  },
  {
   "cell_type": "code",
   "execution_count": null,
   "id": "c4ddb5aa",
   "metadata": {},
   "outputs": [],
   "source": [
    "# 코드 다듬기 \n",
    "# grid =  [[0]*n for i in range(n)] #이거 필요없음 \n",
    "x, y = 0,0 # x, y = 1, 1이라고 하면 바로 나옴 \n",
    "direct = [\"L\", \"R\", \"U\", \"D\"]\n",
    "dx = [0, 0, -1, 1]\n",
    "dy = [-1, 1, 0, 0]"
   ]
  },
  {
   "cell_type": "code",
   "execution_count": null,
   "id": "cc015ba2",
   "metadata": {},
   "outputs": [],
   "source": [
    "for j in route:\n",
    "    for i in range(len(direct)):\n",
    "        if direct[i]== j:\n",
    "            nx = x + dx[i]\n",
    "            ny = y + dy[i]\n",
    "            print(nx,ny)\n",
    "            if nx< 0 or nx>=n or ny <0 or ny>=n: # x, y = 1,1이라고 하면 여기 수정해야함\n",
    "                continue\n",
    "            x,y = nx , ny "
   ]
  },
  {
   "cell_type": "markdown",
   "id": "941fe5ed",
   "metadata": {},
   "source": [
    "- 후기 봤던 문제다. nx,ny로 업데이트를 할지 말지 따지는게 유효하다. \n",
    "- 격자 나타내는 방법, 문제를 잘 읽어야한다"
   ]
  },
  {
   "cell_type": "markdown",
   "id": "4e004e4e",
   "metadata": {},
   "source": [
    "4-2.py  \n",
    "- N이 입력되면 00시 00분 00초부터 N시 59분 59초까지 3이 하나라도 포함되어있는 경우의 수\n",
    "- for 문을 3번 돌리더라도, 10만개가 안되는 경우의 수 이므로 완전탐색으로 진행하면 된다."
   ]
  },
  {
   "cell_type": "code",
   "execution_count": null,
   "id": "50074bc8",
   "metadata": {},
   "outputs": [],
   "source": [
    "\"3\" in \"53\""
   ]
  },
  {
   "cell_type": "code",
   "execution_count": null,
   "id": "b10e1688",
   "metadata": {},
   "outputs": [],
   "source": [
    "\"3\" in \"53.43\""
   ]
  },
  {
   "cell_type": "code",
   "execution_count": null,
   "id": "75949087",
   "metadata": {},
   "outputs": [],
   "source": [
    "N = 5"
   ]
  },
  {
   "cell_type": "code",
   "execution_count": null,
   "id": "3520c1ad",
   "metadata": {},
   "outputs": [],
   "source": [
    "count = 0\n",
    "for i in range(N+1):\n",
    "    for j in range(60):\n",
    "        for k in range(60):\n",
    "            time = str(i) + str(j) + str(k)\n",
    "            if \"3\" in time:\n",
    "                count +=1\n",
    "print(count)"
   ]
  },
  {
   "cell_type": "code",
   "execution_count": null,
   "id": "e27e8c4c",
   "metadata": {},
   "outputs": [],
   "source": []
  },
  {
   "cell_type": "markdown",
   "id": "fae42793",
   "metadata": {},
   "source": [
    "4-4.py\n",
    "- 역순으로 슬라이싱 고려하는데만 50분 걸림.\n",
    "- 행렬과 좌표평면 노테이션이 혼합됨. 이제는 코딩할땐 행렬 기준.\n",
    "- 나머지는 구현을 잘 하지 못해서 그랬지만, 슬라이싱 또한 잘못 됬는걸 돌리고 나서 알았다.\n",
    "- 나는 jupyter 로 계속 출력을 하면서 했지만 이제는 def로 가자. 이렇게 쉽게 출력을 못한다."
   ]
  },
  {
   "cell_type": "code",
   "execution_count": 74,
   "id": "03d7b5ac",
   "metadata": {},
   "outputs": [
    {
     "name": "stdout",
     "output_type": "stream",
     "text": [
      "4 4\n"
     ]
    }
   ],
   "source": [
    "n,m = map(int, input().split())"
   ]
  },
  {
   "cell_type": "code",
   "execution_count": 106,
   "id": "7d7e89ab",
   "metadata": {},
   "outputs": [],
   "source": [
    "# x, y, direct = map(int, input().split())\n",
    "x, y, direct = 1, 1, 0"
   ]
  },
  {
   "cell_type": "code",
   "execution_count": 107,
   "id": "ae8a1c82",
   "metadata": {},
   "outputs": [],
   "source": [
    "# directs = [\"0\", \"1\", \"2\", \"3\"] #와 시발것 여기는 시계방향으로 주냐 \n",
    "\n",
    "directs = [\"0\", \"3\", \"2\", \"1\"] # 이게 북 서 남 동 으로 반시계 방향 \n",
    "dx = [-1, 0, 1, 0]\n",
    "dy = [0, -1, 0, 1]"
   ]
  },
  {
   "cell_type": "code",
   "execution_count": 108,
   "id": "352b484f",
   "metadata": {},
   "outputs": [],
   "source": [
    "count = 1 \n",
    "visited = [[0]* m for _ in range(n)]\n",
    "i = 0 \n",
    "turn = 0 \n",
    "visited[x][y] = 1"
   ]
  },
  {
   "cell_type": "code",
   "execution_count": 109,
   "id": "4f1f8556",
   "metadata": {},
   "outputs": [],
   "source": [
    "# array = []\n",
    "# for i in range(n):\n",
    "#     array.append(list(map(int, input().split())))"
   ]
  },
  {
   "cell_type": "code",
   "execution_count": 110,
   "id": "5143b1fb",
   "metadata": {},
   "outputs": [
    {
     "data": {
      "text/plain": [
       "[[1, 1, 1, 1], [1, 0, 0, 1], [1, 1, 0, 1], [1, 1, 1, 1]]"
      ]
     },
     "execution_count": 110,
     "metadata": {},
     "output_type": "execute_result"
    }
   ],
   "source": [
    "array"
   ]
  },
  {
   "cell_type": "code",
   "execution_count": 111,
   "id": "971bbe3b",
   "metadata": {},
   "outputs": [
    {
     "data": {
      "text/plain": [
       "[[0, 0, 0, 0], [0, 1, 0, 0], [0, 0, 0, 0], [0, 0, 0, 0]]"
      ]
     },
     "execution_count": 111,
     "metadata": {},
     "output_type": "execute_result"
    }
   ],
   "source": [
    "visited"
   ]
  },
  {
   "cell_type": "code",
   "execution_count": 103,
   "id": "2dfd819a",
   "metadata": {},
   "outputs": [
    {
     "name": "stdout",
     "output_type": "stream",
     "text": [
      "3\n"
     ]
    }
   ],
   "source": [
    "d = int(directs[((i+1) + directs.index(str(direct)))%4])\n",
    "print(d)"
   ]
  },
  {
   "cell_type": "code",
   "execution_count": 112,
   "id": "cfc34a1a",
   "metadata": {},
   "outputs": [],
   "source": [
    "# for i in range(len(directs)):\n",
    "while True:\n",
    "#     d = int(directs[((i+1) + directs.index(str(direct)))%4]) # 슬라이싱 고려하는데 50분걸림 \n",
    "    d = ((i+1) + directs.index(str(direct)))%4 #for 문에 대한 방향 \n",
    "#     print(d)\n",
    "    i += 1\n",
    "#     print(d)\n",
    "    nx = x + dx[d] # 무조건 행렬기준이다. \n",
    "    ny = y + dy[d]\n",
    "#     print(\"grid\",nx, ny)\n",
    "#     print(\"turn\",turn)\n",
    "    if array[nx][ny] == 0 and visited[nx][ny] == 0 :\n",
    "        visited[nx][ny] = 1\n",
    "        x, y = nx, ny\n",
    "        count +=1\n",
    "        turn = 0\n",
    "        continue\n",
    "    else:\n",
    "        turn += 1\n",
    "#         continue 여기 들어갈 위치 아닌데 작성함\n",
    "        \n",
    "    if turn == 4 :\n",
    "        nx = x - dx[d] # 무조건 행렬기준이다. \n",
    "        ny = y - dy[d]\n",
    "        \n",
    "        if array[nx][ny] == 0 : # 조건확인 잘못해서 들여쓰지 못함.\n",
    "            x = nx\n",
    "            y = ny\n",
    "        else:\n",
    "            break\n",
    "        turn = 0\n",
    "        "
   ]
  },
  {
   "cell_type": "code",
   "execution_count": 113,
   "id": "c1a41d95",
   "metadata": {},
   "outputs": [
    {
     "data": {
      "text/plain": [
       "3"
      ]
     },
     "execution_count": 113,
     "metadata": {},
     "output_type": "execute_result"
    }
   ],
   "source": [
    "count"
   ]
  }
 ],
 "metadata": {
  "kernelspec": {
   "display_name": "Python 3 (ipykernel)",
   "language": "python",
   "name": "python3"
  },
  "language_info": {
   "codemirror_mode": {
    "name": "ipython",
    "version": 3
   },
   "file_extension": ".py",
   "mimetype": "text/x-python",
   "name": "python",
   "nbconvert_exporter": "python",
   "pygments_lexer": "ipython3",
   "version": "3.11.4"
  }
 },
 "nbformat": 4,
 "nbformat_minor": 5
}
