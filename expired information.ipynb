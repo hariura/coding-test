{
 "cells": [
  {
   "cell_type": "markdown",
   "id": "b170694d",
   "metadata": {},
   "source": [
    "테스트 케이스는 통과했는데, 실패함  \n",
    "https://school.programmers.co.kr/learn/courses/30/lessons/150370#\n"
   ]
  },
  {
   "cell_type": "code",
   "execution_count": 18,
   "id": "edb589f5",
   "metadata": {},
   "outputs": [
    {
     "name": "stdout",
     "output_type": "stream",
     "text": [
      "{'A': '6', 'B': '12', 'C': '3'}\n"
     ]
    }
   ],
   "source": [
    "def solution(today, terms, privacies):\n",
    "    answer = []\n",
    "    today = int(today.replace(\".\",\"\"))\n",
    "    \n",
    "    t = {}\n",
    "    for term in terms:\n",
    "        t[term.split(\" \")[0]] = int(term.split(\" \")[1])\n",
    "    \n",
    "    for i,privacy in enumerate(privacies):\n",
    "        m = int(privacy.split(\" \")[0].replace(\".\",\"\"))\n",
    "        m += t[privacy.split(\" \")[1]]*100\n",
    "        \n",
    "        while (m%10000) // 1300 !=0 :\n",
    "            m += 8800\n",
    "            \n",
    "        if m <= today:\n",
    "            answer.append(i+1)\n",
    "        # print(\"today\",today)\n",
    "        # print(m)\n",
    "    return answer"
   ]
  },
  {
   "cell_type": "code",
   "execution_count": null,
   "id": "d455a532",
   "metadata": {},
   "outputs": [],
   "source": []
  }
 ],
 "metadata": {
  "kernelspec": {
   "display_name": "Python 3 (ipykernel)",
   "language": "python",
   "name": "python3"
  },
  "language_info": {
   "codemirror_mode": {
    "name": "ipython",
    "version": 3
   },
   "file_extension": ".py",
   "mimetype": "text/x-python",
   "name": "python",
   "nbconvert_exporter": "python",
   "pygments_lexer": "ipython3",
   "version": "3.11.4"
  }
 },
 "nbformat": 4,
 "nbformat_minor": 5
}
