{
 "cells": [
  {
   "cell_type": "code",
   "execution_count": 1,
   "id": "4d22c06f",
   "metadata": {},
   "outputs": [],
   "source": [
    "x=\"2022.11.13\""
   ]
  },
  {
   "cell_type": "code",
   "execution_count": 3,
   "id": "97e24855",
   "metadata": {},
   "outputs": [],
   "source": [
    "x = x.replace(\".\",\"\")"
   ]
  },
  {
   "cell_type": "code",
   "execution_count": 4,
   "id": "aebb431d",
   "metadata": {},
   "outputs": [
    {
     "data": {
      "text/plain": [
       "'20221113'"
      ]
     },
     "execution_count": 4,
     "metadata": {},
     "output_type": "execute_result"
    }
   ],
   "source": [
    "x"
   ]
  },
  {
   "cell_type": "code",
   "execution_count": 5,
   "id": "48aacee3",
   "metadata": {},
   "outputs": [],
   "source": [
    "y = [\"2021.05.02 A\", \"2021.07.01 B\", \"2022.02.19 C\", \"2022.02.20 C\"]"
   ]
  },
  {
   "cell_type": "code",
   "execution_count": 13,
   "id": "ee1d7047",
   "metadata": {},
   "outputs": [],
   "source": [
    "for privacy in y:\n",
    "    m = int(privacy.split(\" \")[0].replace(\".\",\"\"))\n"
   ]
  },
  {
   "cell_type": "code",
   "execution_count": 11,
   "id": "8ee24369",
   "metadata": {},
   "outputs": [
    {
     "data": {
      "text/plain": [
       "20220220"
      ]
     },
     "execution_count": 11,
     "metadata": {},
     "output_type": "execute_result"
    }
   ],
   "source": [
    "m"
   ]
  },
  {
   "cell_type": "code",
   "execution_count": 17,
   "id": "ab759a10",
   "metadata": {},
   "outputs": [],
   "source": [
    "terms =[\"A 6\", \"B 12\", \"C 3\"]"
   ]
  },
  {
   "cell_type": "code",
   "execution_count": 18,
   "id": "b7e9901a",
   "metadata": {},
   "outputs": [
    {
     "name": "stdout",
     "output_type": "stream",
     "text": [
      "{'A': '6', 'B': '12', 'C': '3'}\n"
     ]
    }
   ],
   "source": [
    "t = {}\n",
    "for term in terms:\n",
    "    t[term.split(\" \")[0]] = int(term.split(\" \")[1])\n",
    "\n",
    "print(t)"
   ]
  },
  {
   "cell_type": "code",
   "execution_count": 15,
   "id": "f1c88180",
   "metadata": {},
   "outputs": [
    {
     "ename": "TypeError",
     "evalue": "unsupported operand type(s) for +: 'dict' and 'dict'",
     "output_type": "error",
     "traceback": [
      "\u001b[0;31m---------------------------------------------------------------------------\u001b[0m",
      "\u001b[0;31mTypeError\u001b[0m                                 Traceback (most recent call last)",
      "Cell \u001b[0;32mIn[15], line 1\u001b[0m\n\u001b[0;32m----> 1\u001b[0m d \u001b[38;5;241m+\u001b[39m {\u001b[38;5;124m\"\u001b[39m\u001b[38;5;124md\u001b[39m\u001b[38;5;124m\"\u001b[39m:\u001b[38;5;241m3\u001b[39m}\n",
      "\u001b[0;31mTypeError\u001b[0m: unsupported operand type(s) for +: 'dict' and 'dict'"
     ]
    }
   ],
   "source": []
  },
  {
   "cell_type": "code",
   "execution_count": null,
   "id": "f73c1537",
   "metadata": {},
   "outputs": [],
   "source": []
  }
 ],
 "metadata": {
  "kernelspec": {
   "display_name": "Python 3 (ipykernel)",
   "language": "python",
   "name": "python3"
  },
  "language_info": {
   "codemirror_mode": {
    "name": "ipython",
    "version": 3
   },
   "file_extension": ".py",
   "mimetype": "text/x-python",
   "name": "python",
   "nbconvert_exporter": "python",
   "pygments_lexer": "ipython3",
   "version": "3.11.4"
  }
 },
 "nbformat": 4,
 "nbformat_minor": 5
}
