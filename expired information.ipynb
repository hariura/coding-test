{
 "cells": [
  {
   "cell_type": "markdown",
   "id": "6b15d1b0",
   "metadata": {},
   "source": [
    "테스트 케이스는 통과했는데, 실패함  \n",
    "https://school.programmers.co.kr/learn/courses/30/lessons/150370#\n"
   ]
  },
  {
   "cell_type": "code",
   "execution_count": 19,
   "id": "7935eecb",
   "metadata": {},
   "outputs": [],
   "source": [
    "def solution(today, terms, privacies):\n",
    "    answer = []\n",
    "    today = int(today.replace(\".\",\"\"))\n",
    "\n",
    "    t = {}\n",
    "    for term in terms:\n",
    "        t[term.split(\" \")[0]] = int(term.split(\" \")[1])\n",
    "\n",
    "    for i,privacy in enumerate(privacies):\n",
    "        m = int(privacy.split(\" \")[0].replace(\".\",\"\"))\n",
    "        m += (t[privacy.split(\" \")[1]]//12)*10000\n",
    "        m += (t[privacy.split(\" \")[1]]%12)*100\n",
    "\n",
    "        # 직관적으로 해결 했지만, 나눠서하는게 더 좋다고함. \n",
    "        # 이렇게 하면 기한이 88개월이 넘어가면 문제 생김\n",
    "\n",
    "        while (m%10000) // 1300 !=0 : \n",
    "            m += 8800\n",
    "\n",
    "        if m <= today:\n",
    "            answer.append(i+1)\n",
    "        # print(\"today\",today)\n",
    "        # print(m)\n",
    "    return answer"
   ]
  },
  {
   "cell_type": "code",
   "execution_count": null,
   "id": "1fedd1f0",
   "metadata": {},
   "outputs": [],
   "source": []
  },
  {
   "cell_type": "code",
   "execution_count": null,
   "id": "a353a3c4",
   "metadata": {},
   "outputs": [],
   "source": [
    "def solution(today, terms, privacies):\n",
    "    answer = []\n",
    "    \n",
    "    # 오늘의 날짜를 년, 월, 일로 분리\n",
    "    today_year, today_month, today_day = map(int, today.split(\".\"))\n",
    "    \n",
    "    # 약관의 유효기간을 딕셔너리로 저장\n",
    "    term_dict = {}\n",
    "    for term in terms:\n",
    "        k, v = term.split(\" \")\n",
    "        term_dict[k] = int(v)\n",
    "        \n",
    "    for i, privacy in enumerate(privacies):\n",
    "        date, term_type = privacy.split(\" \")\n",
    "        year, month, day = map(int, date.split(\".\"))\n",
    "        \n",
    "        # 유효기간을 더함\n",
    "        month += term_dict[term_type]\n",
    "        \n",
    "        # 월이 12를 초과한 경우 년도를 증가시키고 월을 조정\n",
    "        year += month // 12\n",
    "        month %= 12\n",
    "        \n",
    "        # 월이 0이 되면 12월로 설정하고 년도를 1 감소\n",
    "        if month == 0:\n",
    "            month = 12\n",
    "            year -= 1\n",
    "#         print(year,month,day)\n",
    "        # 파기해야 할지 비교\n",
    "        if year < today_year or (year == today_year and (month < today_month or (month == today_month and day <= today_day))):\n",
    "            answer.append(i + 1)\n",
    "            \n",
    "    return answer\n",
    "\n",
    "\n",
    "\n",
    "        "
   ]
  }
 ],
 "metadata": {
  "kernelspec": {
   "display_name": "Python 3 (ipykernel)",
   "language": "python",
   "name": "python3"
  },
  "language_info": {
   "codemirror_mode": {
    "name": "ipython",
    "version": 3
   },
   "file_extension": ".py",
   "mimetype": "text/x-python",
   "name": "python",
   "nbconvert_exporter": "python",
   "pygments_lexer": "ipython3",
   "version": "3.11.4"
  }
 },
 "nbformat": 4,
 "nbformat_minor": 5
}
