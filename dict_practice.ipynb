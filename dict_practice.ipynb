{
 "cells": [
  {
   "cell_type": "markdown",
   "id": "11dbd0e2",
   "metadata": {},
   "source": [
    "case 1"
   ]
  },
  {
   "cell_type": "code",
   "execution_count": 11,
   "id": "eeb88cd9",
   "metadata": {},
   "outputs": [],
   "source": [
    "mm ={\"x\":3, \"y\":3}"
   ]
  },
  {
   "cell_type": "code",
   "execution_count": 17,
   "id": "49209e0c",
   "metadata": {},
   "outputs": [
    {
     "data": {
      "text/plain": [
       "3"
      ]
     },
     "execution_count": 17,
     "metadata": {},
     "output_type": "execute_result"
    }
   ],
   "source": [
    "mm[\"x\"]"
   ]
  },
  {
   "cell_type": "markdown",
   "id": "08491ab3",
   "metadata": {},
   "source": [
    "case 1:1 로 합치기  \n",
    "- zip 함수는 두 개의 리스트를 튜플로 묶어주는 역할을 합니다.  \n",
    "- zip(string_list, int_list)는 [('A', 1), ('B', 2), ('C', 3)]와 같은 리스트를 반환합니다."
   ]
  },
  {
   "cell_type": "code",
   "execution_count": 18,
   "id": "a66a1d0d",
   "metadata": {},
   "outputs": [],
   "source": [
    "x = [\"a\",\"b\",\"c\"]"
   ]
  },
  {
   "cell_type": "code",
   "execution_count": 19,
   "id": "70dbc522",
   "metadata": {},
   "outputs": [],
   "source": [
    "y = [1,2,3]"
   ]
  },
  {
   "cell_type": "code",
   "execution_count": 20,
   "id": "6412f0f9",
   "metadata": {},
   "outputs": [
    {
     "name": "stdout",
     "output_type": "stream",
     "text": [
      "{'A': 1, 'B': 2, 'C': 3}\n"
     ]
    }
   ],
   "source": [
    "string_list = ['A','B','C']\n",
    "int_list = [1, 2, 3]\n",
    "dictionary = dict(zip(string_list, int_list))\n",
    "print(dictionary)"
   ]
  },
  {
   "cell_type": "code",
   "execution_count": 22,
   "id": "6242a709",
   "metadata": {},
   "outputs": [
    {
     "data": {
      "text/plain": [
       "[('A', 1), ('B', 2), ('C', 3)]"
      ]
     },
     "execution_count": 22,
     "metadata": {},
     "output_type": "execute_result"
    }
   ],
   "source": [
    "list(zip(string_list, int_list))"
   ]
  },
  {
   "cell_type": "code",
   "execution_count": 23,
   "id": "ec56dbd7",
   "metadata": {},
   "outputs": [
    {
     "data": {
      "text/plain": [
       "{'A': 1, 'B': 2, 'C': 3}"
      ]
     },
     "execution_count": 23,
     "metadata": {},
     "output_type": "execute_result"
    }
   ],
   "source": [
    "{s:i for s,i in zip(string_list,int_list)}"
   ]
  },
  {
   "cell_type": "code",
   "execution_count": null,
   "id": "399f52af",
   "metadata": {},
   "outputs": [],
   "source": [
    "string_list = ['A','B','C']\n",
    "dictionary = {string : i for i,string in enumerate(string_list)}\n",
    "print(dictionary)"
   ]
  },
  {
   "cell_type": "markdown",
   "id": "d8d16f53",
   "metadata": {},
   "source": [
    "dict 추가하기"
   ]
  },
  {
   "cell_type": "code",
   "execution_count": 24,
   "id": "0ee3ee77",
   "metadata": {},
   "outputs": [],
   "source": [
    "d = {}"
   ]
  },
  {
   "cell_type": "code",
   "execution_count": 25,
   "id": "1eb768c2",
   "metadata": {},
   "outputs": [
    {
     "name": "stdout",
     "output_type": "stream",
     "text": [
      "{'a': 3}\n"
     ]
    }
   ],
   "source": [
    "d[\"a\"] = 3\n",
    "print(d)"
   ]
  },
  {
   "cell_type": "code",
   "execution_count": null,
   "id": "1c9e3dda",
   "metadata": {},
   "outputs": [],
   "source": []
  }
 ],
 "metadata": {
  "kernelspec": {
   "display_name": "Python 3 (ipykernel)",
   "language": "python",
   "name": "python3"
  },
  "language_info": {
   "codemirror_mode": {
    "name": "ipython",
    "version": 3
   },
   "file_extension": ".py",
   "mimetype": "text/x-python",
   "name": "python",
   "nbconvert_exporter": "python",
   "pygments_lexer": "ipython3",
   "version": "3.11.4"
  }
 },
 "nbformat": 4,
 "nbformat_minor": 5
}
