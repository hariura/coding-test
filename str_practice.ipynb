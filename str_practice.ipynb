{
 "cells": [
  {
   "cell_type": "code",
   "execution_count": 1,
   "id": "c37aed8f",
   "metadata": {},
   "outputs": [
    {
     "data": {
      "text/plain": [
       "8"
      ]
     },
     "execution_count": 1,
     "metadata": {},
     "output_type": "execute_result"
    }
   ],
   "source": [
    "len(\"aabbaccc\")"
   ]
  },
  {
   "cell_type": "code",
   "execution_count": 2,
   "id": "d047b577",
   "metadata": {},
   "outputs": [],
   "source": [
    "#str -> 리스트 분리하기 \n",
    "ll = list(\"aabbaccc\")\n",
    "ll"
   ]
  },
  {
   "cell_type": "code",
   "execution_count": 6,
   "id": "eb4d155f",
   "metadata": {},
   "outputs": [
    {
     "data": {
      "text/plain": [
       "'aabbaccc'"
      ]
     },
     "execution_count": 6,
     "metadata": {},
     "output_type": "execute_result"
    }
   ],
   "source": [
    "#리스트 -> str 합치기 \n",
    "l = \"\".join(ll)\n",
    "l"
   ]
  },
  {
   "cell_type": "code",
   "execution_count": 8,
   "id": "f72c4eec",
   "metadata": {},
   "outputs": [
    {
     "data": {
      "text/plain": [
       "'dsds'"
      ]
     },
     "execution_count": 8,
     "metadata": {},
     "output_type": "execute_result"
    }
   ],
   "source": [
    "# 스트링은 레인지 넘어가면 사용안함.\n",
    "# 리스트는 아웃오브레인지 뜸 \n",
    "a = \"dsds\"\n",
    "a[:6]"
   ]
  },
  {
   "cell_type": "code",
   "execution_count": null,
   "id": "83fcaf24",
   "metadata": {},
   "outputs": [],
   "source": []
  }
 ],
 "metadata": {
  "kernelspec": {
   "display_name": "Python 3 (ipykernel)",
   "language": "python",
   "name": "python3"
  },
  "language_info": {
   "codemirror_mode": {
    "name": "ipython",
    "version": 3
   },
   "file_extension": ".py",
   "mimetype": "text/x-python",
   "name": "python",
   "nbconvert_exporter": "python",
   "pygments_lexer": "ipython3",
   "version": "3.11.4"
  }
 },
 "nbformat": 4,
 "nbformat_minor": 5
}
