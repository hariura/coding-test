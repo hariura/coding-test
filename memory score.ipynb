{
 "cells": [
  {
   "cell_type": "markdown",
   "id": "bf1c817e",
   "metadata": {},
   "source": [
    "dict 와 zip 연습한 코드"
   ]
  },
  {
   "cell_type": "code",
   "execution_count": null,
   "id": "b3977b91",
   "metadata": {},
   "outputs": [],
   "source": [
    "def solution(name, yearning, photo):\n",
    "    x = {n:y for n,y in zip(name,yearning)}\n",
    "    answer = []\n",
    "    \n",
    "    for people in photo:\n",
    "        score = 0\n",
    "        for person in people:\n",
    "            try:\n",
    "                score +=x[person]\n",
    "            except:\n",
    "                pass\n",
    "        answer.append(score)\n",
    "    return answer"
   ]
  }
 ],
 "metadata": {
  "kernelspec": {
   "display_name": "Python 3 (ipykernel)",
   "language": "python",
   "name": "python3"
  },
  "language_info": {
   "codemirror_mode": {
    "name": "ipython",
    "version": 3
   },
   "file_extension": ".py",
   "mimetype": "text/x-python",
   "name": "python",
   "nbconvert_exporter": "python",
   "pygments_lexer": "ipython3",
   "version": "3.11.4"
  }
 },
 "nbformat": 4,
 "nbformat_minor": 5
}
